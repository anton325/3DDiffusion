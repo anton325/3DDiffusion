{
 "cells": [
  {
   "cell_type": "code",
   "execution_count": null,
   "metadata": {},
   "outputs": [],
   "source": [
    "import lietorch\n",
    "import torch\n",
    "from gecco_torch.scene.gaussian_model import GaussianModel\n",
    "from gecco_torch.utils.isotropic_gaussian import IsotropicGaussianSO3\n",
    "from gecco_torch.utils.isotropic_plotting import visualize_so3_probabilities\n",
    "import jaxlie\n",
    "import jax.numpy as jnp\n",
    "import matplotlib.pyplot as plt\n",
    "import math"
   ]
  },
  {
   "cell_type": "code",
   "execution_count": 2,
   "metadata": {},
   "outputs": [],
   "source": [
    "class LogUniformSchedule():\n",
    "    \"\"\"\n",
    "    LogUniform noise schedule which seems to work better in our (GECCO) context.\n",
    "\n",
    "    alle schedules returnen einfach nur für jedes n ein sigma, \n",
    "    sie werden gecalled mit schedule(samples) und samples hat shape (batchsize, num_points, 3)\n",
    "    und dann gibt er für jedes element im batch ein sigma\n",
    "    \"\"\"\n",
    "\n",
    "    def __init__(self, max: float, min: float = 0.002, low_discrepancy: bool = True):\n",
    "        super().__init__()\n",
    "\n",
    "        self.sigma_min = min\n",
    "        self.sigma_max = max\n",
    "        self.log_sigma_min = math.log(min)\n",
    "        self.log_sigma_max = math.log(max)\n",
    "        self.low_discrepancy = low_discrepancy\n",
    "\n",
    "    def return_schedule(self,n):\n",
    "        u = torch.linspace(0,1,n).cuda()\n",
    "        sigma = (\n",
    "            u * (self.log_sigma_max - self.log_sigma_min) + self.log_sigma_min\n",
    "        ).exp()\n",
    "        return sigma"
   ]
  },
  {
   "cell_type": "code",
   "execution_count": 3,
   "metadata": {},
   "outputs": [],
   "source": [
    "gm = GaussianModel(3)\n",
    "gm.load_ply(\"/globalwork/giese/gaussians/02691156/1a04e3eab45ca15dd86060f189eb133/point_cloud/iteration_10000/point_cloud.ply\")\n",
    "rotations = gm.get_rotation.detach()\n",
    "rotations_xyzw = rotations[:, [1, 2, 3, 0]]"
   ]
  },
  {
   "cell_type": "code",
   "execution_count": 4,
   "metadata": {},
   "outputs": [],
   "source": [
    "schedule = LogUniformSchedule(165)\n",
    "noise_schedule = schedule.return_schedule(128)"
   ]
  },
  {
   "cell_type": "code",
   "execution_count": null,
   "metadata": {},
   "outputs": [],
   "source": [
    "for i,s in enumerate(noise_schedule):\n",
    "    axis_angles = torch.vmap(lambda r,s_single: IsotropicGaussianSO3(r,\n",
    "                                                                s_single,\n",
    "                                                                force_small_scale=False).sample_one_vmap(),\n",
    "                            randomness=\"different\")(rotations_xyzw, s.repeat(rotations_xyzw.shape[0]))\n",
    "    samples = (lietorch.SO3(rotations_xyzw) * lietorch.SO3.exp(axis_angles)).vec()\n",
    "    fig = plt.figure()\n",
    "    ax = fig.add_subplot(111, projection='mollweide')\n",
    "    visualize_so3_probabilities(jnp.array([jaxlie.SO3(x[[3,0,1,2]].cpu().numpy()).as_matrix() for x in samples]), 0.001, ax=ax,fig=fig);\n",
    "    fig.savefig(f\"out/rot_{i}.png\")"
   ]
  },
  {
   "cell_type": "code",
   "execution_count": 6,
   "metadata": {},
   "outputs": [],
   "source": [
    "import cv2\n",
    "\n",
    "frame = cv2.imread('out/rot_1.png')\n",
    "height, width, layers = frame.shape\n",
    "video = cv2.VideoWriter('out/video.avi', cv2.VideoWriter_fourcc(*'DIVX'), 10, (width, height))\n",
    "\n",
    "for i in range(0, 128):\n",
    "    video.write(cv2.imread(f'out/rot_{i}.png'))\n",
    "\n",
    "# cv2.destroyAllWindows()\n",
    "video.release()"
   ]
  }
 ],
 "metadata": {
  "kernelspec": {
   "display_name": "gecco",
   "language": "python",
   "name": "python3"
  },
  "language_info": {
   "codemirror_mode": {
    "name": "ipython",
    "version": 3
   },
   "file_extension": ".py",
   "mimetype": "text/x-python",
   "name": "python",
   "nbconvert_exporter": "python",
   "pygments_lexer": "ipython3",
   "version": "3.10.14"
  }
 },
 "nbformat": 4,
 "nbformat_minor": 2
}
