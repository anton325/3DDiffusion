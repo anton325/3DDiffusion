{
 "cells": [
  {
   "cell_type": "code",
   "execution_count": 1,
   "metadata": {},
   "outputs": [],
   "source": [
    "import pathlib\n",
    "import numpy as np\n",
    "from scipy.spatial import cKDTree\n",
    "\n",
    "def load_all_pointclouds(folder):\n",
    "    pointclouds =[]\n",
    "    for file in folder.glob(\"*.npy\"):\n",
    "        pointclouds.append(np.load(file))\n",
    "    return np.array(pointclouds)"
   ]
  },
  {
   "cell_type": "code",
   "execution_count": 3,
   "metadata": {},
   "outputs": [],
   "source": [
    "dataset_path = (pathlib.Path(pathlib.Path.home(),\"..\",\"..\",\"globalwork\",\"giese\",\"gecco_shapenet\",\"ShapeNetCore.v2.PC15k\"))\n",
    "pointclouds1 = load_all_pointclouds(pathlib.Path(dataset_path,\"02691156\",\"val\"))\n",
    "pointclouds2 = load_all_pointclouds(pathlib.Path(dataset_path,\"02691156\",\"test\"))"
   ]
  },
  {
   "cell_type": "code",
   "execution_count": 4,
   "metadata": {},
   "outputs": [
    {
     "data": {
      "text/plain": [
       "(405, 15000, 3)"
      ]
     },
     "execution_count": 4,
     "metadata": {},
     "output_type": "execute_result"
    }
   ],
   "source": [
    "pointclouds1.shape"
   ]
  },
  {
   "cell_type": "code",
   "execution_count": null,
   "metadata": {},
   "outputs": [],
   "source": []
  }
 ],
 "metadata": {
  "kernelspec": {
   "display_name": "gecco_new",
   "language": "python",
   "name": "python3"
  },
  "language_info": {
   "codemirror_mode": {
    "name": "ipython",
    "version": 3
   },
   "file_extension": ".py",
   "mimetype": "text/x-python",
   "name": "python",
   "nbconvert_exporter": "python",
   "pygments_lexer": "ipython3",
   "version": "3.10.13"
  }
 },
 "nbformat": 4,
 "nbformat_minor": 2
}
