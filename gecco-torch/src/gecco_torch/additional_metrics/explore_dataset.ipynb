{
 "cells": [
  {
   "cell_type": "markdown",
   "metadata": {},
   "source": [
    "<h1> Explore das Dataset"
   ]
  },
  {
   "cell_type": "code",
   "execution_count": 1,
   "metadata": {},
   "outputs": [],
   "source": [
    "import pathlib\n",
    "dataset_path = (pathlib.Path(pathlib.Path.home(),\"..\",\"..\",\"globalwork\",\"giese\",\"gecco_shapenet\",\"ShapeNetCore.v2.PC15k\"))"
   ]
  },
  {
   "cell_type": "markdown",
   "metadata": {},
   "source": [
    "<h2> Anzahl der Pointclouds"
   ]
  },
  {
   "cell_type": "code",
   "execution_count": 19,
   "metadata": {},
   "outputs": [],
   "source": [
    "def find_num_ele_in_split(path,split):\n",
    "    per_cat = {}\n",
    "    for p in [x for x in path.iterdir() if x.is_dir()]:\n",
    "        per_cat[p.name] = 0\n",
    "        for s in [x for x in p.iterdir() if x.is_dir()]:\n",
    "            # print(s.name)\n",
    "            if s.name == split:\n",
    "                per_cat[p.name] = (len(list(s.iterdir())))\n",
    "    return per_cat\n",
    "\n",
    "def find_total_num_ele(per_cat):\n",
    "    return sum(per_cat.values())"
   ]
  },
  {
   "cell_type": "code",
   "execution_count": 21,
   "metadata": {},
   "outputs": [],
   "source": [
    "ele_train = find_num_ele_in_split(dataset_path,\"train\")\n",
    "ele_val = find_num_ele_in_split(dataset_path,\"val\")\n",
    "ele_test = find_num_ele_in_split(dataset_path,\"test\")"
   ]
  },
  {
   "cell_type": "code",
   "execution_count": 22,
   "metadata": {},
   "outputs": [
    {
     "data": {
      "text/plain": [
       "(35708, 5158, 10261)"
      ]
     },
     "execution_count": 22,
     "metadata": {},
     "output_type": "execute_result"
    }
   ],
   "source": [
    "find_total_num_ele(ele_train),find_total_num_ele(ele_val),find_total_num_ele(ele_test)"
   ]
  },
  {
   "cell_type": "markdown",
   "metadata": {},
   "source": [
    "<h1> Explore das conditional dataset"
   ]
  },
  {
   "cell_type": "code",
   "execution_count": 1,
   "metadata": {},
   "outputs": [],
   "source": [
    "import pathlib\n",
    "dataset_path = (pathlib.Path(pathlib.Path.home(),\"..\",\"..\",\"globalwork\",\"giese\",\"gecco_shapenet\",\"ShapeNet\"))"
   ]
  },
  {
   "cell_type": "code",
   "execution_count": 10,
   "metadata": {},
   "outputs": [],
   "source": [
    "def count_num_lines_lst_file(path):\n",
    "    # Initialize a counter\n",
    "    element_count = 0\n",
    "\n",
    "    # Open the file and read the contents\n",
    "    with open(path, 'r') as file:\n",
    "        for line in file:\n",
    "            element_count += 1\n",
    "    return element_count\n",
    "\n",
    "lst_split_count = {}\n",
    "\n",
    "for cat in [x for x in dataset_path.iterdir() if x.is_dir()]:\n",
    "    for lst_file in cat.glob(\"*.lst\"):\n",
    "        num_in_split = count_num_lines_lst_file(lst_file)\n",
    "        lst_split_count[lst_file.name] = lst_split_count.get(lst_file.name,0) + num_in_split"
   ]
  },
  {
   "cell_type": "code",
   "execution_count": null,
   "metadata": {},
   "outputs": [],
   "source": [
    "list_split_count"
   ]
  }
 ],
 "metadata": {
  "kernelspec": {
   "display_name": "gecco_new",
   "language": "python",
   "name": "python3"
  },
  "language_info": {
   "codemirror_mode": {
    "name": "ipython",
    "version": 3
   },
   "file_extension": ".py",
   "mimetype": "text/x-python",
   "name": "python",
   "nbconvert_exporter": "python",
   "pygments_lexer": "ipython3",
   "version": "3.10.13"
  }
 },
 "nbformat": 4,
 "nbformat_minor": 2
}
